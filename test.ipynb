{
 "cells": [
  {
   "cell_type": "code",
   "execution_count": 7,
   "metadata": {},
   "outputs": [],
   "source": [
    "import pandas as pd\n",
    "import torch"
   ]
  },
  {
   "cell_type": "code",
   "execution_count": 12,
   "metadata": {},
   "outputs": [
    {
     "name": "stderr",
     "output_type": "stream",
     "text": [
      "/var/folders/dh/7984j7ln2b9005qghdnnbqbc0000gn/T/ipykernel_90014/2511795653.py:10: FutureWarning: A value is trying to be set on a copy of a DataFrame or Series through chained assignment using an inplace method.\n",
      "The behavior will change in pandas 3.0. This inplace method will never work because the intermediate object on which we are setting values always behaves as a copy.\n",
      "\n",
      "For example, when doing 'df[col].method(value, inplace=True)', try using 'df.method({col: value}, inplace=True)' or df[col] = df[col].method(value) instead, to perform the operation inplace on the original object.\n",
      "\n",
      "\n",
      "  all_features['keyword'].fillna('unknown', inplace=True)\n"
     ]
    }
   ],
   "source": [
    "train_data = pd.read_csv('./dataset/train.csv')\n",
    "test_data = pd.read_csv('./dataset/test.csv')\n",
    "\n",
    "labels = train_data['target']\n",
    "train_features = train_data.drop(columns=['target'])\n",
    "all_features = pd.concat([train_features, test_data], ignore_index=True)\n",
    "all_features\n",
    "all_features = all_features.drop(columns=['id', 'location'])\n",
    "\n",
    "all_features['keyword'].fillna('unknown', inplace=True)\n",
    "all_features = pd.get_dummies(all_features, columns=['keyword'], prefix='kw')"
   ]
  },
  {
   "cell_type": "code",
   "execution_count": 13,
   "metadata": {},
   "outputs": [
    {
     "data": {
      "text/html": [
       "<div>\n",
       "<style scoped>\n",
       "    .dataframe tbody tr th:only-of-type {\n",
       "        vertical-align: middle;\n",
       "    }\n",
       "\n",
       "    .dataframe tbody tr th {\n",
       "        vertical-align: top;\n",
       "    }\n",
       "\n",
       "    .dataframe thead th {\n",
       "        text-align: right;\n",
       "    }\n",
       "</style>\n",
       "<table border=\"1\" class=\"dataframe\">\n",
       "  <thead>\n",
       "    <tr style=\"text-align: right;\">\n",
       "      <th></th>\n",
       "      <th>text</th>\n",
       "      <th>kw_ablaze</th>\n",
       "      <th>kw_accident</th>\n",
       "      <th>kw_aftershock</th>\n",
       "      <th>kw_airplane%20accident</th>\n",
       "      <th>kw_ambulance</th>\n",
       "      <th>kw_annihilated</th>\n",
       "      <th>kw_annihilation</th>\n",
       "      <th>kw_apocalypse</th>\n",
       "      <th>kw_armageddon</th>\n",
       "      <th>...</th>\n",
       "      <th>kw_weapons</th>\n",
       "      <th>kw_whirlwind</th>\n",
       "      <th>kw_wild%20fires</th>\n",
       "      <th>kw_wildfire</th>\n",
       "      <th>kw_windstorm</th>\n",
       "      <th>kw_wounded</th>\n",
       "      <th>kw_wounds</th>\n",
       "      <th>kw_wreck</th>\n",
       "      <th>kw_wreckage</th>\n",
       "      <th>kw_wrecked</th>\n",
       "    </tr>\n",
       "  </thead>\n",
       "  <tbody>\n",
       "    <tr>\n",
       "      <th>0</th>\n",
       "      <td>Our Deeds are the Reason of this #earthquake M...</td>\n",
       "      <td>False</td>\n",
       "      <td>False</td>\n",
       "      <td>False</td>\n",
       "      <td>False</td>\n",
       "      <td>False</td>\n",
       "      <td>False</td>\n",
       "      <td>False</td>\n",
       "      <td>False</td>\n",
       "      <td>False</td>\n",
       "      <td>...</td>\n",
       "      <td>False</td>\n",
       "      <td>False</td>\n",
       "      <td>False</td>\n",
       "      <td>False</td>\n",
       "      <td>False</td>\n",
       "      <td>False</td>\n",
       "      <td>False</td>\n",
       "      <td>False</td>\n",
       "      <td>False</td>\n",
       "      <td>False</td>\n",
       "    </tr>\n",
       "    <tr>\n",
       "      <th>1</th>\n",
       "      <td>Forest fire near La Ronge Sask. Canada</td>\n",
       "      <td>False</td>\n",
       "      <td>False</td>\n",
       "      <td>False</td>\n",
       "      <td>False</td>\n",
       "      <td>False</td>\n",
       "      <td>False</td>\n",
       "      <td>False</td>\n",
       "      <td>False</td>\n",
       "      <td>False</td>\n",
       "      <td>...</td>\n",
       "      <td>False</td>\n",
       "      <td>False</td>\n",
       "      <td>False</td>\n",
       "      <td>False</td>\n",
       "      <td>False</td>\n",
       "      <td>False</td>\n",
       "      <td>False</td>\n",
       "      <td>False</td>\n",
       "      <td>False</td>\n",
       "      <td>False</td>\n",
       "    </tr>\n",
       "    <tr>\n",
       "      <th>2</th>\n",
       "      <td>All residents asked to 'shelter in place' are ...</td>\n",
       "      <td>False</td>\n",
       "      <td>False</td>\n",
       "      <td>False</td>\n",
       "      <td>False</td>\n",
       "      <td>False</td>\n",
       "      <td>False</td>\n",
       "      <td>False</td>\n",
       "      <td>False</td>\n",
       "      <td>False</td>\n",
       "      <td>...</td>\n",
       "      <td>False</td>\n",
       "      <td>False</td>\n",
       "      <td>False</td>\n",
       "      <td>False</td>\n",
       "      <td>False</td>\n",
       "      <td>False</td>\n",
       "      <td>False</td>\n",
       "      <td>False</td>\n",
       "      <td>False</td>\n",
       "      <td>False</td>\n",
       "    </tr>\n",
       "    <tr>\n",
       "      <th>3</th>\n",
       "      <td>13,000 people receive #wildfires evacuation or...</td>\n",
       "      <td>False</td>\n",
       "      <td>False</td>\n",
       "      <td>False</td>\n",
       "      <td>False</td>\n",
       "      <td>False</td>\n",
       "      <td>False</td>\n",
       "      <td>False</td>\n",
       "      <td>False</td>\n",
       "      <td>False</td>\n",
       "      <td>...</td>\n",
       "      <td>False</td>\n",
       "      <td>False</td>\n",
       "      <td>False</td>\n",
       "      <td>False</td>\n",
       "      <td>False</td>\n",
       "      <td>False</td>\n",
       "      <td>False</td>\n",
       "      <td>False</td>\n",
       "      <td>False</td>\n",
       "      <td>False</td>\n",
       "    </tr>\n",
       "    <tr>\n",
       "      <th>4</th>\n",
       "      <td>Just got sent this photo from Ruby #Alaska as ...</td>\n",
       "      <td>False</td>\n",
       "      <td>False</td>\n",
       "      <td>False</td>\n",
       "      <td>False</td>\n",
       "      <td>False</td>\n",
       "      <td>False</td>\n",
       "      <td>False</td>\n",
       "      <td>False</td>\n",
       "      <td>False</td>\n",
       "      <td>...</td>\n",
       "      <td>False</td>\n",
       "      <td>False</td>\n",
       "      <td>False</td>\n",
       "      <td>False</td>\n",
       "      <td>False</td>\n",
       "      <td>False</td>\n",
       "      <td>False</td>\n",
       "      <td>False</td>\n",
       "      <td>False</td>\n",
       "      <td>False</td>\n",
       "    </tr>\n",
       "  </tbody>\n",
       "</table>\n",
       "<p>5 rows × 223 columns</p>\n",
       "</div>"
      ],
      "text/plain": [
       "                                                text  kw_ablaze  kw_accident  \\\n",
       "0  Our Deeds are the Reason of this #earthquake M...      False        False   \n",
       "1             Forest fire near La Ronge Sask. Canada      False        False   \n",
       "2  All residents asked to 'shelter in place' are ...      False        False   \n",
       "3  13,000 people receive #wildfires evacuation or...      False        False   \n",
       "4  Just got sent this photo from Ruby #Alaska as ...      False        False   \n",
       "\n",
       "   kw_aftershock  kw_airplane%20accident  kw_ambulance  kw_annihilated  \\\n",
       "0          False                   False         False           False   \n",
       "1          False                   False         False           False   \n",
       "2          False                   False         False           False   \n",
       "3          False                   False         False           False   \n",
       "4          False                   False         False           False   \n",
       "\n",
       "   kw_annihilation  kw_apocalypse  kw_armageddon  ...  kw_weapons  \\\n",
       "0            False          False          False  ...       False   \n",
       "1            False          False          False  ...       False   \n",
       "2            False          False          False  ...       False   \n",
       "3            False          False          False  ...       False   \n",
       "4            False          False          False  ...       False   \n",
       "\n",
       "   kw_whirlwind  kw_wild%20fires  kw_wildfire  kw_windstorm  kw_wounded  \\\n",
       "0         False            False        False         False       False   \n",
       "1         False            False        False         False       False   \n",
       "2         False            False        False         False       False   \n",
       "3         False            False        False         False       False   \n",
       "4         False            False        False         False       False   \n",
       "\n",
       "   kw_wounds  kw_wreck  kw_wreckage  kw_wrecked  \n",
       "0      False     False        False       False  \n",
       "1      False     False        False       False  \n",
       "2      False     False        False       False  \n",
       "3      False     False        False       False  \n",
       "4      False     False        False       False  \n",
       "\n",
       "[5 rows x 223 columns]"
      ]
     },
     "execution_count": 13,
     "metadata": {},
     "output_type": "execute_result"
    }
   ],
   "source": [
    "all_features.head()"
   ]
  },
  {
   "cell_type": "code",
   "execution_count": 14,
   "metadata": {},
   "outputs": [
    {
     "data": {
      "text/plain": [
       "157"
      ]
     },
     "execution_count": 14,
     "metadata": {},
     "output_type": "execute_result"
    }
   ],
   "source": [
    "train_data['text'].str.len().max()"
   ]
  },
  {
   "cell_type": "code",
   "execution_count": 16,
   "metadata": {},
   "outputs": [
    {
     "data": {
      "text/plain": [
       "text                      object\n",
       "kw_ablaze                   bool\n",
       "kw_accident                 bool\n",
       "kw_aftershock               bool\n",
       "kw_airplane%20accident      bool\n",
       "                           ...  \n",
       "kw_wounded                  bool\n",
       "kw_wounds                   bool\n",
       "kw_wreck                    bool\n",
       "kw_wreckage                 bool\n",
       "kw_wrecked                  bool\n",
       "Length: 223, dtype: object"
      ]
     },
     "execution_count": 16,
     "metadata": {},
     "output_type": "execute_result"
    }
   ],
   "source": [
    "all_features.dtypes"
   ]
  },
  {
   "cell_type": "code",
   "execution_count": 3,
   "metadata": {},
   "outputs": [
    {
     "name": "stderr",
     "output_type": "stream",
     "text": [
      "/Users/robinsonxing/miniconda3/envs/d2l/lib/python3.10/site-packages/tqdm/auto.py:21: TqdmWarning: IProgress not found. Please update jupyter and ipywidgets. See https://ipywidgets.readthedocs.io/en/stable/user_install.html\n",
      "  from .autonotebook import tqdm as notebook_tqdm\n",
      "/Users/robinsonxing/miniconda3/envs/d2l/lib/python3.10/site-packages/transformers/utils/generic.py:311: UserWarning: torch.utils._pytree._register_pytree_node is deprecated. Please use torch.utils._pytree.register_pytree_node instead.\n",
      "  torch.utils._pytree._register_pytree_node(\n"
     ]
    }
   ],
   "source": [
    "from dataset import TweetSet, load_and_process_data\n",
    "from model import MultimodalModel"
   ]
  },
  {
   "cell_type": "code",
   "execution_count": 27,
   "metadata": {},
   "outputs": [
    {
     "name": "stderr",
     "output_type": "stream",
     "text": [
      "/Users/robinsonxing/Documents/Code Source/kaggle/NLP_with_Disaster_Tweets/dataset.py:67: FutureWarning: A value is trying to be set on a copy of a DataFrame or Series through chained assignment using an inplace method.\n",
      "The behavior will change in pandas 3.0. This inplace method will never work because the intermediate object on which we are setting values always behaves as a copy.\n",
      "\n",
      "For example, when doing 'df[col].method(value, inplace=True)', try using 'df.method({col: value}, inplace=True)' or df[col] = df[col].method(value) instead, to perform the operation inplace on the original object.\n",
      "\n",
      "\n",
      "  all_data['keyword'].fillna('unknown', inplace=True)\n",
      "/Users/robinsonxing/miniconda3/envs/d2l/lib/python3.10/site-packages/huggingface_hub/file_download.py:1150: FutureWarning: `resume_download` is deprecated and will be removed in version 1.0.0. Downloads always resume when possible. If you want to force a new download, use `force_download=True`.\n",
      "  warnings.warn(\n"
     ]
    }
   ],
   "source": [
    "# 加载并处理数据\n",
    "keyword_data, location_data, text_data, labels = load_and_process_data(mode='train')\n",
    "dataset = TweetSet(pd.concat([keyword_data, location_data, text_data], axis=1), labels)"
   ]
  },
  {
   "cell_type": "code",
   "execution_count": 28,
   "metadata": {},
   "outputs": [],
   "source": [
    "keyword_features = dataset.data.filter(like='kw').values"
   ]
  },
  {
   "cell_type": "code",
   "execution_count": 25,
   "metadata": {},
   "outputs": [],
   "source": [
    "for i, element in enumerate(keyword_features):\n",
    "    if element.dtype != 'float64':\n",
    "        print(f\"元素 {i} 的类型: {element.dtype}\")"
   ]
  },
  {
   "cell_type": "code",
   "execution_count": 29,
   "metadata": {},
   "outputs": [],
   "source": [
    "keyword_features = torch.tensor(keyword_features, dtype=torch.float32)"
   ]
  }
 ],
 "metadata": {
  "kernelspec": {
   "display_name": "d2l",
   "language": "python",
   "name": "python3"
  },
  "language_info": {
   "codemirror_mode": {
    "name": "ipython",
    "version": 3
   },
   "file_extension": ".py",
   "mimetype": "text/x-python",
   "name": "python",
   "nbconvert_exporter": "python",
   "pygments_lexer": "ipython3",
   "version": "3.10.14"
  }
 },
 "nbformat": 4,
 "nbformat_minor": 2
}
